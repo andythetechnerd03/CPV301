{
 "cells": [
  {
   "cell_type": "code",
   "execution_count": 1,
   "metadata": {},
   "outputs": [],
   "source": [
    "import cv2"
   ]
  },
  {
   "cell_type": "code",
   "execution_count": 5,
   "metadata": {},
   "outputs": [
    {
     "ename": "",
     "evalue": "",
     "output_type": "error",
     "traceback": [
      "\u001b[1;31mCanceled future for execute_request message before replies were done"
     ]
    },
    {
     "ename": "",
     "evalue": "",
     "output_type": "error",
     "traceback": [
      "\u001b[1;31mThe Kernel crashed while executing code in the the current cell or a previous cell. Please review the code in the cell(s) to identify a possible cause of the failure. Click <a href='https://aka.ms/vscodeJupyterKernelCrash'>here</a> for more info. View Jupyter <a href='command:jupyter.viewOutput'>log</a> for further details."
     ]
    }
   ],
   "source": [
    "import cv2\n",
    "import numpy as np\n",
    "drawing = False\n",
    "ix,iy = -1,-1\n",
    "\n",
    "# define mouse callback function to draw circle\n",
    "def draw_rectangle(event, x, y, flags, param):\n",
    "   global ix, iy, drawing, img\n",
    "   if event == cv2.EVENT_LBUTTONDOWN:\n",
    "      drawing = True\n",
    "      ix = x\n",
    "      iy = y\n",
    "   elif event == cv2.EVENT_LBUTTONUP:\n",
    "      drawing = False\n",
    "      cv2.rectangle(img, (ix, iy),(x, y),(0, 255, 255),-1)\n",
    "\n",
    "# Create a black image\n",
    "img = np.zeros((512,700,3), np.uint8)\n",
    "\n",
    "# Create a window and bind the function to window\n",
    "cv2.namedWindow(\"Rectangle Window\")\n",
    "\n",
    "# Connect the mouse button to our callback function\n",
    "cv2.setMouseCallback(\"Rectangle Window\", draw_rectangle)\n",
    "\n",
    "# display the window\n",
    "while True:\n",
    "    cv2.imshow(\"Rectangle Window\", img)\n",
    "    if cv2.waitKey(10) == 27:\n",
    "        break\n",
    "cv2.destroyAllWindows()"
   ]
  },
  {
   "cell_type": "code",
   "execution_count": null,
   "metadata": {},
   "outputs": [],
   "source": [
    "            "
   ]
  }
 ],
 "metadata": {
  "kernelspec": {
   "display_name": "Python 3",
   "language": "python",
   "name": "python3"
  },
  "language_info": {
   "codemirror_mode": {
    "name": "ipython",
    "version": 3
   },
   "file_extension": ".py",
   "mimetype": "text/x-python",
   "name": "python",
   "nbconvert_exporter": "python",
   "pygments_lexer": "ipython3",
   "version": "3.10.4"
  },
  "orig_nbformat": 4,
  "vscode": {
   "interpreter": {
    "hash": "fbc768028c3e6ead51d9a200ddcb2ec858ae62844dcd1994729a8279be9b48f2"
   }
  }
 },
 "nbformat": 4,
 "nbformat_minor": 2
}
